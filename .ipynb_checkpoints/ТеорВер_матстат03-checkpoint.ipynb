{
 "cells": [
  {
   "cell_type": "markdown",
   "id": "efeb3b9e",
   "metadata": {},
   "source": [
    "# Теория вероятностей и математическая статистика (семинары)\n",
    "\n",
    "## Урок 3. EDA (exploratory data analysis) или Разведочный анализ"
   ]
  },
  {
   "cell_type": "code",
   "execution_count": 27,
   "id": "cb071536",
   "metadata": {},
   "outputs": [],
   "source": [
    "import numpy as np\n",
    "from math import factorial as fl\n",
    "from math import comb"
   ]
  },
  {
   "cell_type": "markdown",
   "id": "6ae0a7b3",
   "metadata": {},
   "source": [
    "## Задача 1\n",
    "Даны значения зарплат из выборки выпускников: 100, 80, 75, 77, 89, 33, 45, 25, 65, 17, 30, 24, 57, 55, 70, 75, 65, 84, 90, 150. Посчитать (желательно без использования статистических методов наподобие std, var, mean) среднее арифметическое, среднее квадратичное отклонение, смещенную и несмещенную оценки дисперсий для данной выборки."
   ]
  },
  {
   "cell_type": "code",
   "execution_count": 28,
   "id": "1a49ad63",
   "metadata": {},
   "outputs": [
    {
     "data": {
      "text/plain": [
       "array([100,  80,  75,  77,  89,  33,  45,  25,  65,  17,  30,  24,  57,\n",
       "        55,  70,  75,  65,  84,  90, 150])"
      ]
     },
     "execution_count": 28,
     "metadata": {},
     "output_type": "execute_result"
    }
   ],
   "source": [
    "x = np.array([100, 80, 75, 77, 89, 33, 45, 25, 65, 17, 30, 24, 57, 55, 70, 75, 65, 84, 90, 150])\n",
    "x"
   ]
  },
  {
   "cell_type": "code",
   "execution_count": 29,
   "id": "4c9f070d",
   "metadata": {},
   "outputs": [
    {
     "data": {
      "text/plain": [
       "65.3"
      ]
     },
     "execution_count": 29,
     "metadata": {},
     "output_type": "execute_result"
    }
   ],
   "source": [
    "# среднее арифметическое\n",
    "x_mean = x.sum() / x.size\n",
    "x_mean"
   ]
  },
  {
   "cell_type": "code",
   "execution_count": 30,
   "id": "50f389e4",
   "metadata": {},
   "outputs": [
    {
     "data": {
      "text/plain": [
       "30.823854398825596"
      ]
     },
     "execution_count": 30,
     "metadata": {},
     "output_type": "execute_result"
    }
   ],
   "source": [
    "# среднее квадратичное отклонение\n",
    "np.sqrt(np.sum((x - x_mean)**2) / x.size)"
   ]
  },
  {
   "cell_type": "code",
   "execution_count": 31,
   "id": "4d111d4d",
   "metadata": {},
   "outputs": [
    {
     "data": {
      "text/plain": [
       "950.11"
      ]
     },
     "execution_count": 31,
     "metadata": {},
     "output_type": "execute_result"
    }
   ],
   "source": [
    "# дисперсия смещенная\n",
    "np.sum((x - x_mean)**2) / x.size"
   ]
  },
  {
   "cell_type": "code",
   "execution_count": 32,
   "id": "ce94fab7",
   "metadata": {},
   "outputs": [
    {
     "data": {
      "text/plain": [
       "1000.1157894736842"
      ]
     },
     "execution_count": 32,
     "metadata": {},
     "output_type": "execute_result"
    }
   ],
   "source": [
    "# дисперсия несмещенная\n",
    "np.sum((x - x_mean)**2) / (x.size - 1)"
   ]
  },
  {
   "cell_type": "markdown",
   "id": "e016f3a1",
   "metadata": {},
   "source": [
    "## Задача 2\n",
    "\n",
    "В первом ящике находится 8 мячей, из которых 5 - белые. Во втором ящике - 12 мячей, из которых 5 белых. Из первого ящика вытаскивают случайным образом два мяча, из второго - 4. Какова вероятность того, что 3 мяча белые?"
   ]
  },
  {
   "cell_type": "code",
   "execution_count": 33,
   "id": "c764de99",
   "metadata": {},
   "outputs": [
    {
     "data": {
      "text/plain": [
       "0.3686868686868687"
      ]
     },
     "execution_count": 33,
     "metadata": {},
     "output_type": "execute_result"
    }
   ],
   "source": [
    "P1 = (comb(5, 2)*comb(3, 0)/comb(8, 2))*(comb(5, 1)*comb(7, 3)/comb(12,4))\n",
    "P2 = (comb(5, 1)*comb(3, 1)/comb(8, 2))*(comb(5, 2)*comb(7, 2)/comb(12,4))\n",
    "P3 = (comb(5, 0)*comb(3, 2)/comb(8, 2))*(comb(5, 3)*comb(7, 1)/comb(12,4))\n",
    "\n",
    "P1 + P2 + P3"
   ]
  },
  {
   "cell_type": "markdown",
   "id": "cd1be320",
   "metadata": {},
   "source": [
    "## Задача 3\n",
    "На соревновании по биатлону один из трех спортсменов стреляет и попадает в мишень. Вероятность попадания для первого спортсмена равна 0.9, для второго — 0.8, для третьего — 0.6. Найти вероятность того, что выстрел произведен:\n",
    "\n",
    "a) первым спортсменом\n",
    "\n",
    "b) вторым спортсменом\n",
    "\n",
    "c) третьим спортсменом."
   ]
  },
  {
   "cell_type": "code",
   "execution_count": 34,
   "id": "f13a04b4",
   "metadata": {},
   "outputs": [
    {
     "data": {
      "text/plain": [
       "0.7666666666666666"
      ]
     },
     "execution_count": 34,
     "metadata": {},
     "output_type": "execute_result"
    }
   ],
   "source": [
    "# Вероятность попадания в мишень\n",
    "A = 1/3 * 0.9 + 1/3 * 0.8 + 1/3 * 0.6\n",
    "A"
   ]
  },
  {
   "cell_type": "code",
   "execution_count": 35,
   "id": "70fda479",
   "metadata": {},
   "outputs": [
    {
     "data": {
      "text/plain": [
       "0.391304347826087"
      ]
     },
     "execution_count": 35,
     "metadata": {},
     "output_type": "execute_result"
    }
   ],
   "source": [
    "# a) Вероятность попадания первого спортсмена\n",
    "(1/3 * 0.9) / A"
   ]
  },
  {
   "cell_type": "code",
   "execution_count": 36,
   "id": "f56ee8ac",
   "metadata": {},
   "outputs": [
    {
     "data": {
      "text/plain": [
       "0.3478260869565218"
      ]
     },
     "execution_count": 36,
     "metadata": {},
     "output_type": "execute_result"
    }
   ],
   "source": [
    "# b) Вероятность попадания второго спортсмена\n",
    "(1/3 * 0.8) / A"
   ]
  },
  {
   "cell_type": "code",
   "execution_count": 37,
   "id": "8272c290",
   "metadata": {},
   "outputs": [
    {
     "data": {
      "text/plain": [
       "0.2608695652173913"
      ]
     },
     "execution_count": 37,
     "metadata": {},
     "output_type": "execute_result"
    }
   ],
   "source": [
    "# c) Вероятность попадания третьего спортсмена\n",
    "(1/3 * 0.6) / A"
   ]
  },
  {
   "cell_type": "markdown",
   "id": "a69c385f",
   "metadata": {},
   "source": [
    "## Задача 4\n",
    "В университет на факультеты A и B поступило равное количество студентов, а на факультет C студентов поступило столько же, сколько на A и B вместе. Вероятность того, что студент факультета A сдаст первую сессию, равна 0.8. Для студента факультета B эта вероятность равна 0.7, а для студента факультета C - 0.9. Студент сдал первую сессию. Какова вероятность, что он учится: \n",
    "\n",
    "a) на факультете A \n",
    "\n",
    "b) на факультете B \n",
    "\n",
    "c) на факультете C?"
   ]
  },
  {
   "cell_type": "code",
   "execution_count": 38,
   "id": "372efd24",
   "metadata": {},
   "outputs": [
    {
     "data": {
      "text/plain": [
       "0.825"
      ]
     },
     "execution_count": 38,
     "metadata": {},
     "output_type": "execute_result"
    }
   ],
   "source": [
    "# Вероятность сдачи студетном сессии\n",
    "A = 1/4 * 0.8 + 1/4 * 0.7 + 1/2 * 0.9\n",
    "A"
   ]
  },
  {
   "cell_type": "code",
   "execution_count": 39,
   "id": "efe43a51",
   "metadata": {},
   "outputs": [
    {
     "data": {
      "text/plain": [
       "0.24242424242424246"
      ]
     },
     "execution_count": 39,
     "metadata": {},
     "output_type": "execute_result"
    }
   ],
   "source": [
    "# Вероятность сдачи сессии студентом с факультета A\n",
    "(1/4 * 0.8) / A"
   ]
  },
  {
   "cell_type": "code",
   "execution_count": 40,
   "id": "3f14ecc0",
   "metadata": {},
   "outputs": [
    {
     "data": {
      "text/plain": [
       "0.21212121212121213"
      ]
     },
     "execution_count": 40,
     "metadata": {},
     "output_type": "execute_result"
    }
   ],
   "source": [
    "# Вероятность сдачи сессии студентом с факультета B\n",
    "(1/4 * 0.7) / A"
   ]
  },
  {
   "cell_type": "code",
   "execution_count": 41,
   "id": "64c5fa07",
   "metadata": {},
   "outputs": [
    {
     "data": {
      "text/plain": [
       "0.5454545454545455"
      ]
     },
     "execution_count": 41,
     "metadata": {},
     "output_type": "execute_result"
    }
   ],
   "source": [
    "# Вероятность сдачи сессии студентом с факультета C\n",
    "(1/2 * 0.9) / A"
   ]
  },
  {
   "cell_type": "markdown",
   "id": "db961489",
   "metadata": {},
   "source": [
    "## Задача 5\n",
    "Устройство состоит из трех деталей. Для первой детали вероятность выйти из строя в первый месяц равна 0.1, для второй - 0.2, для третьей - 0.25. Какова вероятность того, что в первый месяц выйдут из строя: \n",
    "\n",
    "a) все детали\n",
    "\n",
    "b) только две детали\n",
    "\n",
    "c) хотя бы одна деталь\n",
    "\n",
    "d) от одной до двух деталей?"
   ]
  },
  {
   "cell_type": "code",
   "execution_count": 42,
   "id": "4aef4865",
   "metadata": {},
   "outputs": [],
   "source": [
    "p1=0.1\n",
    "p2=0.2\n",
    "p3=0.25"
   ]
  },
  {
   "cell_type": "code",
   "execution_count": 43,
   "id": "cf0e94e5",
   "metadata": {},
   "outputs": [
    {
     "data": {
      "text/plain": [
       "0.005000000000000001"
      ]
     },
     "execution_count": 43,
     "metadata": {},
     "output_type": "execute_result"
    }
   ],
   "source": [
    "# a)\n",
    "p1 * p2 * p3"
   ]
  },
  {
   "cell_type": "code",
   "execution_count": 44,
   "id": "2490fa82",
   "metadata": {},
   "outputs": [
    {
     "data": {
      "text/plain": [
       "0.08000000000000002"
      ]
     },
     "execution_count": 44,
     "metadata": {},
     "output_type": "execute_result"
    }
   ],
   "source": [
    "# b)\n",
    "p1*p2*(1-p3) + p1*(1-p2)*p3 + (1-p1)*p2*p3"
   ]
  },
  {
   "cell_type": "code",
   "execution_count": 45,
   "id": "84eef1d0",
   "metadata": {},
   "outputs": [
    {
     "data": {
      "text/plain": [
       "0.55"
      ]
     },
     "execution_count": 45,
     "metadata": {},
     "output_type": "execute_result"
    }
   ],
   "source": [
    "# c)\n",
    "p1 + p2 + p3"
   ]
  },
  {
   "cell_type": "code",
   "execution_count": 46,
   "id": "053de423",
   "metadata": {},
   "outputs": [
    {
     "data": {
      "text/plain": [
       "0.455"
      ]
     },
     "execution_count": 46,
     "metadata": {},
     "output_type": "execute_result"
    }
   ],
   "source": [
    "# d) - вер-ть только одной детали + вариант b)\n",
    "p1*(1-p2)*(1-p3) + (1-p1)*p2*(1-p3) + (1-p1)*(1-p2)*p3 + \\\n",
    "p1*p2*(1-p3) + p1*(1-p2)*p3 + (1-p1)*p2*p3"
   ]
  },
  {
   "cell_type": "code",
   "execution_count": null,
   "id": "38dbf0c0",
   "metadata": {},
   "outputs": [],
   "source": []
  }
 ],
 "metadata": {
  "kernelspec": {
   "display_name": "Python 3 (ipykernel)",
   "language": "python",
   "name": "python3"
  },
  "language_info": {
   "codemirror_mode": {
    "name": "ipython",
    "version": 3
   },
   "file_extension": ".py",
   "mimetype": "text/x-python",
   "name": "python",
   "nbconvert_exporter": "python",
   "pygments_lexer": "ipython3",
   "version": "3.9.12"
  }
 },
 "nbformat": 4,
 "nbformat_minor": 5
}
